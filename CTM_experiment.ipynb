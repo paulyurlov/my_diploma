{
  "cells": [
    {
      "cell_type": "code",
      "execution_count": 1,
      "metadata": {
        "id": "QkROnceES6hj",
        "colab": {
          "base_uri": "https://localhost:8080/"
        },
        "outputId": "cff3aafc-24d9-4021-dd38-7b8f1e73d537"
      },
      "outputs": [
        {
          "output_type": "stream",
          "name": "stdout",
          "text": [
            "\u001b[K     |████████████████████████████████| 4.2 MB 5.4 MB/s \n",
            "\u001b[K     |████████████████████████████████| 79 kB 7.4 MB/s \n",
            "\u001b[K     |████████████████████████████████| 162 kB 45.0 MB/s \n",
            "\u001b[K     |████████████████████████████████| 308 kB 35.3 MB/s \n",
            "\u001b[K     |████████████████████████████████| 129 kB 49.1 MB/s \n",
            "\u001b[K     |████████████████████████████████| 6.6 MB 34.2 MB/s \n",
            "\u001b[K     |████████████████████████████████| 596 kB 46.6 MB/s \n",
            "\u001b[K     |████████████████████████████████| 84 kB 3.1 MB/s \n",
            "\u001b[K     |████████████████████████████████| 1.2 MB 45.9 MB/s \n",
            "\u001b[K     |████████████████████████████████| 121 kB 47.6 MB/s \n",
            "\u001b[K     |████████████████████████████████| 783 kB 41.9 MB/s \n",
            "\u001b[K     |████████████████████████████████| 24.1 MB 9.6 MB/s \n",
            "\u001b[K     |████████████████████████████████| 366 kB 42.2 MB/s \n",
            "\u001b[K     |████████████████████████████████| 381 kB 10.4 MB/s \n",
            "\u001b[K     |████████████████████████████████| 1.4 MB 41.0 MB/s \n",
            "\u001b[K     |████████████████████████████████| 1.6 MB 34.7 MB/s \n",
            "\u001b[K     |████████████████████████████████| 109 kB 35.6 MB/s \n",
            "\u001b[K     |████████████████████████████████| 210 kB 37.1 MB/s \n",
            "\u001b[K     |████████████████████████████████| 81 kB 4.1 MB/s \n",
            "\u001b[K     |████████████████████████████████| 22.3 MB 35.6 MB/s \n",
            "\u001b[K     |████████████████████████████████| 100 kB 8.1 MB/s \n",
            "\u001b[K     |████████████████████████████████| 16.3 MB 503 kB/s \n",
            "\u001b[K     |████████████████████████████████| 170 kB 42.7 MB/s \n",
            "\u001b[K     |████████████████████████████████| 78 kB 2.9 MB/s \n",
            "\u001b[K     |████████████████████████████████| 49 kB 4.8 MB/s \n",
            "\u001b[K     |████████████████████████████████| 112 kB 26.0 MB/s \n",
            "\u001b[K     |████████████████████████████████| 146 kB 35.1 MB/s \n",
            "\u001b[?25h  Building wheel for sentence-transformers (setup.py) ... \u001b[?25l\u001b[?25hdone\n",
            "  Building wheel for pylatexenc (setup.py) ... \u001b[?25l\u001b[?25hdone\n",
            "  Building wheel for pyperclip (setup.py) ... \u001b[?25l\u001b[?25hdone\n",
            "  Building wheel for libsvm (setup.py) ... \u001b[?25l\u001b[?25hdone\n",
            "\u001b[31mERROR: pip's dependency resolver does not currently take into account all the packages that are installed. This behaviour is the source of the following dependency conflicts.\n",
            "yellowbrick 1.4 requires scikit-learn>=1.0.0, but you have scikit-learn 0.24.2 which is incompatible.\n",
            "jupyter-console 5.2.0 requires prompt-toolkit<2.0.0,>=1.0.0, but you have prompt-toolkit 3.0.29 which is incompatible.\n",
            "google-colab 1.0.0 requires ipython~=5.5.0, but you have ipython 7.16.3 which is incompatible.\u001b[0m\n"
          ]
        }
      ],
      "source": [
        "!pip install -q -U transformers sentence-transformers pylatexenc contextualized_topic_models optuna octis"
      ]
    },
    {
      "cell_type": "code",
      "execution_count": 2,
      "metadata": {
        "id": "9BhBSE6rS6hk"
      },
      "outputs": [],
      "source": [
        "from transformers import AutoTokenizer, AutoModel\n",
        "from sklearn.cluster import DBSCAN, OPTICS\n",
        "from sklearn.metrics import silhouette_score, davies_bouldin_score\n",
        "import optuna\n",
        "from numpy.random import default_rng\n",
        "from transformers import AutoModelForSequenceClassification, AutoTokenizer\n",
        "import pandas as pd\n",
        "import numpy as np\n",
        "from tqdm.notebook import tqdm\n",
        "import nltk\n",
        "import string\n",
        "from nltk.tokenize import word_tokenize\n",
        "from nltk.stem import WordNetLemmatizer\n",
        "import torch\n",
        "import optuna\n",
        "\n",
        "from pylatexenc.latex2text import LatexNodes2Text"
      ]
    },
    {
      "cell_type": "code",
      "execution_count": 3,
      "metadata": {
        "colab": {
          "base_uri": "https://localhost:8080/"
        },
        "id": "TPdy4rzLazJM",
        "outputId": "f85fef05-7073-40c7-ff20-d7b296b3e0c8"
      },
      "outputs": [
        {
          "output_type": "stream",
          "name": "stdout",
          "text": [
            "Mounted at /content/drive\n"
          ]
        }
      ],
      "source": [
        "from google.colab import drive\n",
        "drive.mount('/content/drive')"
      ]
    },
    {
      "cell_type": "code",
      "execution_count": 4,
      "metadata": {
        "colab": {
          "base_uri": "https://localhost:8080/"
        },
        "id": "cCIrXiZMS6hl",
        "outputId": "f34fc150-baf5-4118-f049-6af73cd3df3f"
      },
      "outputs": [
        {
          "output_type": "stream",
          "name": "stderr",
          "text": [
            "/usr/local/lib/python3.7/dist-packages/IPython/core/interactiveshell.py:2882: DtypeWarning: Columns (1) have mixed types.Specify dtype option on import or set low_memory=False.\n",
            "  \n"
          ]
        }
      ],
      "source": [
        "tqdm.pandas()\n",
        "docs_df = pd.read_csv('/content/drive/My Drive/to_use.csv')\n",
        "df = docs_df.sample(15000, random_state=42)\n",
        "rng = default_rng(49)\n",
        "df['type_set'] = rng.choice(np.array(['train', 'val', 'test']), 15000)"
      ]
    },
    {
      "cell_type": "code",
      "execution_count": 5,
      "metadata": {
        "colab": {
          "base_uri": "https://localhost:8080/"
        },
        "id": "5pd3SHDlblF9",
        "outputId": "0ba474d8-4c9b-4ee0-cfe9-944cc1513349"
      },
      "outputs": [
        {
          "output_type": "stream",
          "name": "stdout",
          "text": [
            "[nltk_data] Downloading package stopwords to /root/nltk_data...\n",
            "[nltk_data]   Unzipping corpora/stopwords.zip.\n",
            "[nltk_data] Downloading package punkt to /root/nltk_data...\n",
            "[nltk_data]   Unzipping tokenizers/punkt.zip.\n",
            "[nltk_data] Downloading package wordnet to /root/nltk_data...\n",
            "[nltk_data]   Unzipping corpora/wordnet.zip.\n"
          ]
        },
        {
          "output_type": "execute_result",
          "data": {
            "text/plain": [
              "True"
            ]
          },
          "metadata": {},
          "execution_count": 5
        }
      ],
      "source": [
        "nltk.download('stopwords')\n",
        "nltk.download('punkt')\n",
        "nltk.download('wordnet')"
      ]
    },
    {
      "cell_type": "code",
      "execution_count": 6,
      "metadata": {
        "colab": {
          "base_uri": "https://localhost:8080/",
          "height": 49,
          "referenced_widgets": [
            "8074fcf959e74cb783aa2492be876ebc",
            "25d3be45a227440a8a8d2a21a8e6518d",
            "e024fa3e22f74b7c92ee95c79d331364",
            "de3ba44055e4464ca6195c403d2ad4c5",
            "88823311d9b748de95a43c707646755e",
            "09b299fdf9304a00b43597ea1519dd18",
            "4184a7c47e684fc9aefeae7d38c398da",
            "0362c435dbf64a2a932d770210766bcf",
            "cecb0438383f47c58173a69e405e1ee0",
            "49360003f2b7464ca928667e8f764886",
            "67b5fa3b1710413e9b287d7e7e929f2e"
          ]
        },
        "id": "mW9liPHwS6hl",
        "outputId": "14547cd7-aa1a-405f-f5dc-6de68911d0ec"
      },
      "outputs": [
        {
          "output_type": "display_data",
          "data": {
            "text/plain": [
              "  0%|          | 0/15000 [00:00<?, ?it/s]"
            ],
            "application/vnd.jupyter.widget-view+json": {
              "version_major": 2,
              "version_minor": 0,
              "model_id": "8074fcf959e74cb783aa2492be876ebc"
            }
          },
          "metadata": {}
        }
      ],
      "source": [
        "def clean_abstract(txt, stp_wrds):\n",
        "    txt = txt.lower()\n",
        "    try:\n",
        "        txt = LatexNodes2Text().latex_to_text(txt)\n",
        "    except:\n",
        "        txt = txt.lower()\n",
        "    sup = word_tokenize(txt, language=\"english\")\n",
        "    lemmatizer = WordNetLemmatizer()\n",
        "    sup = [lemmatizer.lemmatize(word) for word in sup]\n",
        "    ret = []\n",
        "    for el in sup:\n",
        "        el.replace('\\\\', '')\n",
        "        if el not in stp_wrds and el not in string.punctuation:\n",
        "            ret.append(el)\n",
        "    return ' '.join(ret)\n",
        "\n",
        "\n",
        "stop_words = nltk.corpus.stopwords.words(\"english\")\n",
        "stop_words += ['we', 'paper', 'new', 'article', \"''\", \"``\", \"”\", 'et', 'al', 'study', 'state', 'of', 'the', 'art']\n",
        "cleaned_abstract = df['abstract'].progress_apply(clean_abstract, args=[stop_words])\n",
        "df['abstract'] = cleaned_abstract"
      ]
    },
    {
      "cell_type": "code",
      "execution_count": 7,
      "metadata": {
        "id": "4DHQ2k2VS6hm"
      },
      "outputs": [],
      "source": [
        "train = df[df['type_set'] == 'train']['abstract'].tolist()\n",
        "val = df[df['type_set'] == 'val']['abstract'].tolist()\n",
        "test = df[df['type_set'] == 'test']['abstract'].tolist()"
      ]
    },
    {
      "cell_type": "code",
      "execution_count": 13,
      "metadata": {
        "id": "PrqGNog2S6hm"
      },
      "outputs": [],
      "source": [
        "from contextualized_topic_models.evaluation.measures import CoherenceNPMI, CoherenceCV, InvertedRBO, TopicDiversity\n",
        "\n",
        "\n",
        "def compute_metrics(train_model, textss, top_k=10):\n",
        "    texts = [doc.split() for doc in textss]\n",
        "    npmi = CoherenceNPMI(texts=texts, topics=train_model.get_topic_lists(10))\n",
        "    td = TopicDiversity(topics=train_model.get_topic_lists(25))\n",
        "    cv = CoherenceCV(texts=texts, topics=train_model.get_topic_lists(10))\n",
        "\n",
        "    topic_diversity_score = td.score()\n",
        "    npmi_score = npmi.score()\n",
        "    cv_score = cv.score()\n",
        "\n",
        "    return topic_diversity_score, npmi_score, cv_score"
      ]
    },
    {
      "cell_type": "code",
      "execution_count": 8,
      "metadata": {
        "id": "a61RBwoyav05"
      },
      "outputs": [],
      "source": [
        ""
      ]
    },
    {
      "cell_type": "code",
      "execution_count": 15,
      "metadata": {
        "id": "RRXoUdhlS6hn"
      },
      "outputs": [],
      "source": [
        "from contextualized_topic_models.models.ctm import CombinedTM\n",
        "from contextualized_topic_models.utils.data_preparation import TopicModelDataPreparation\n",
        "\n",
        "\n",
        "tp = TopicModelDataPreparation('sentence-transformers/all-mpnet-base-v2')\n",
        "training_dataset = tp.fit(text_for_contextual=train, text_for_bow=train)\n",
        "\n",
        "ctm = CombinedTM(bow_size=len(tp.vocab), contextual_size=768, n_components=50, num_epochs=5)\n",
        "ctm.fit(training_dataset)"
      ]
    },
    {
      "cell_type": "code",
      "source": [
        "compute_metrics(ctm, train)"
      ],
      "metadata": {
        "colab": {
          "base_uri": "https://localhost:8080/"
        },
        "id": "Qitp-7KoaaeU",
        "outputId": "b406c7f3-aec9-4e2b-975e-9908f4ce20dd"
      },
      "execution_count": 14,
      "outputs": [
        {
          "output_type": "execute_result",
          "data": {
            "text/plain": [
              "(0.5008, -0.03513024593027903, 0.504954223950875)"
            ]
          },
          "metadata": {},
          "execution_count": 14
        }
      ]
    },
    {
      "cell_type": "code",
      "execution_count": 16,
      "metadata": {
        "id": "qxhLFS20S6hn"
      },
      "outputs": [],
      "source": [
        "def objective(trial):\n",
        "    torch.cuda.empty_cache()\n",
        "    epochs = trial.suggest_int(\"num_epochs\", 5, 15, log=True)\n",
        "    n_comp = trial.suggest_int(\"n_components\", 10, 150, log=True)\n",
        "    ctm = CombinedTM(bow_size=len(tp.vocab), contextual_size=768, n_components=n_comp, num_epochs=epochs)\n",
        "    ctm.fit(training_dataset)\n",
        "    try:\n",
        "        return compute_metrics(ctm, train)[1]\n",
        "    except:\n",
        "        return -49"
      ]
    },
    {
      "cell_type": "code",
      "execution_count": 17,
      "metadata": {
        "id": "GEp1V8sGS6hn",
        "colab": {
          "base_uri": "https://localhost:8080/"
        },
        "outputId": "5ec9e5ae-8e3e-4617-974e-fea4da2c7dc8"
      },
      "outputs": [
        {
          "output_type": "stream",
          "name": "stderr",
          "text": [
            "\u001b[32m[I 2022-05-16 10:34:02,628]\u001b[0m A new study created in memory with name: no-name-26f7680a-3d5f-4b03-a031-5fb0bb4e393f\u001b[0m\n",
            "Epoch: [13/13]\t Seen Samples: [65533/65533]\tTrain Loss: 915.5513825691827\tTime: 0:00:03.523247: : 13it [00:51,  3.93s/it]\n",
            "Sampling: [20/20]: : 20it [00:56,  2.80s/it]\n",
            "\u001b[32m[I 2022-05-16 10:36:02,756]\u001b[0m Trial 0 finished with value: 0.0023599992079648183 and parameters: {'num_epochs': 13, 'n_components': 26}. Best is trial 0 with value: 0.0023599992079648183.\u001b[0m\n",
            "Epoch: [14/14]\t Seen Samples: [70574/70574]\tTrain Loss: 911.5462767804007\tTime: 0:00:03.639111: : 14it [00:50,  3.61s/it]\n",
            "Sampling: [20/20]: : 20it [00:57,  2.85s/it]\n",
            "\u001b[32m[I 2022-05-16 10:38:04,813]\u001b[0m Trial 1 finished with value: 0.01051321646426849 and parameters: {'num_epochs': 14, 'n_components': 28}. Best is trial 1 with value: 0.01051321646426849.\u001b[0m\n",
            "Epoch: [9/9]\t Seen Samples: [45369/45369]\tTrain Loss: 924.9398440599583\tTime: 0:00:03.578174: : 9it [00:34,  3.78s/it]\n",
            "Sampling: [20/20]: : 20it [00:56,  2.82s/it]\n",
            "\u001b[32m[I 2022-05-16 10:39:50,455]\u001b[0m Trial 2 finished with value: -0.0033523501950264447 and parameters: {'num_epochs': 9, 'n_components': 40}. Best is trial 1 with value: 0.01051321646426849.\u001b[0m\n",
            "Epoch: [6/6]\t Seen Samples: [30246/30246]\tTrain Loss: 964.6023722661674\tTime: 0:00:03.602165: : 6it [00:21,  3.60s/it]\n",
            "Sampling: [20/20]: : 20it [00:57,  2.88s/it]\n",
            "\u001b[32m[I 2022-05-16 10:41:37,481]\u001b[0m Trial 3 finished with value: -0.07704419394752417 and parameters: {'num_epochs': 6, 'n_components': 107}. Best is trial 1 with value: 0.01051321646426849.\u001b[0m\n",
            "Epoch: [14/14]\t Seen Samples: [70574/70574]\tTrain Loss: 919.9169249652847\tTime: 0:00:03.555204: : 14it [00:50,  3.62s/it]\n",
            "Sampling: [20/20]: : 20it [00:55,  2.77s/it]\n",
            "\u001b[32m[I 2022-05-16 10:43:40,338]\u001b[0m Trial 4 finished with value: 0.010608824980754855 and parameters: {'num_epochs': 14, 'n_components': 48}. Best is trial 4 with value: 0.010608824980754855.\u001b[0m\n",
            "Epoch: [9/9]\t Seen Samples: [45369/45369]\tTrain Loss: 921.7864851963895\tTime: 0:00:03.524540: : 9it [00:31,  3.55s/it]\n",
            "Sampling: [20/20]: : 20it [00:54,  2.70s/it]\n",
            "\u001b[32m[I 2022-05-16 10:45:16,924]\u001b[0m Trial 5 finished with value: -0.03283245628654702 and parameters: {'num_epochs': 9, 'n_components': 14}. Best is trial 4 with value: 0.010608824980754855.\u001b[0m\n",
            "Epoch: [11/11]\t Seen Samples: [55451/55451]\tTrain Loss: 919.1205087036302\tTime: 0:00:03.562368: : 11it [00:39,  3.59s/it]\n",
            "Sampling: [20/20]: : 20it [00:55,  2.76s/it]\n",
            "\u001b[32m[I 2022-05-16 10:47:04,547]\u001b[0m Trial 6 finished with value: 0.00774099010269406 and parameters: {'num_epochs': 11, 'n_components': 28}. Best is trial 4 with value: 0.010608824980754855.\u001b[0m\n",
            "Epoch: [12/12]\t Seen Samples: [60492/60492]\tTrain Loss: 932.5336614758976\tTime: 0:00:03.553000: : 12it [00:43,  3.62s/it]\n",
            "Sampling: [20/20]: : 20it [00:58,  2.91s/it]\n",
            "\u001b[32m[I 2022-05-16 10:49:08,662]\u001b[0m Trial 7 finished with value: -0.011522630001213284 and parameters: {'num_epochs': 12, 'n_components': 88}. Best is trial 4 with value: 0.010608824980754855.\u001b[0m\n",
            "Epoch: [11/11]\t Seen Samples: [55451/55451]\tTrain Loss: 918.7379736163459\tTime: 0:00:03.519807: : 11it [00:39,  3.56s/it]\n",
            "Sampling: [20/20]: : 20it [00:54,  2.73s/it]\n",
            "\u001b[32m[I 2022-05-16 10:50:53,034]\u001b[0m Trial 8 finished with value: -0.01633697936577341 and parameters: {'num_epochs': 11, 'n_components': 16}. Best is trial 4 with value: 0.010608824980754855.\u001b[0m\n",
            "Epoch: [5/5]\t Seen Samples: [25205/25205]\tTrain Loss: 934.4321400453779\tTime: 0:00:03.612245: : 5it [00:18,  3.61s/it]\n",
            "Sampling: [20/20]: : 20it [00:55,  2.80s/it]\n",
            "\u001b[32m[I 2022-05-16 10:52:18,163]\u001b[0m Trial 9 finished with value: -0.06431813869315492 and parameters: {'num_epochs': 5, 'n_components': 20}. Best is trial 4 with value: 0.010608824980754855.\u001b[0m\n",
            "Epoch: [7/7]\t Seen Samples: [35287/35287]\tTrain Loss: 938.2799419757985\tTime: 0:00:03.620579: : 7it [00:25,  3.62s/it]\n",
            "Sampling: [20/20]: : 20it [00:55,  2.78s/it]\n",
            "\u001b[32m[I 2022-05-16 10:53:56,970]\u001b[0m Trial 10 finished with value: -0.01602399902760396 and parameters: {'num_epochs': 7, 'n_components': 59}. Best is trial 4 with value: 0.010608824980754855.\u001b[0m\n",
            "Epoch: [15/15]\t Seen Samples: [75615/75615]\tTrain Loss: 917.1020173638663\tTime: 0:00:03.761658: : 15it [00:55,  3.69s/it]\n",
            "Sampling: [20/20]: : 20it [00:57,  2.90s/it]\n",
            "\u001b[32m[I 2022-05-16 10:56:06,894]\u001b[0m Trial 11 finished with value: -0.01249281497091231 and parameters: {'num_epochs': 15, 'n_components': 49}. Best is trial 4 with value: 0.010608824980754855.\u001b[0m\n",
            "Epoch: [15/15]\t Seen Samples: [75615/75615]\tTrain Loss: 926.7368430432949\tTime: 0:00:03.641909: : 15it [00:54,  3.62s/it]\n",
            "Sampling: [20/20]: : 20it [00:55,  2.79s/it]\n",
            "\u001b[32m[I 2022-05-16 10:58:16,461]\u001b[0m Trial 12 finished with value: -0.008701076636918444 and parameters: {'num_epochs': 15, 'n_components': 70}. Best is trial 4 with value: 0.010608824980754855.\u001b[0m\n",
            "Epoch: [13/13]\t Seen Samples: [65533/65533]\tTrain Loss: 918.64181369024\tTime: 0:00:03.619446: : 13it [00:46,  3.56s/it]\n",
            "Sampling: [20/20]: : 20it [00:53,  2.69s/it]\n",
            "\u001b[32m[I 2022-05-16 11:00:06,430]\u001b[0m Trial 13 finished with value: -0.022077718737780506 and parameters: {'num_epochs': 13, 'n_components': 10}. Best is trial 4 with value: 0.010608824980754855.\u001b[0m\n",
            "Epoch: [10/10]\t Seen Samples: [50410/50410]\tTrain Loss: 955.8863808954077\tTime: 0:00:03.861498: : 10it [00:36,  3.69s/it]\n",
            "Sampling: [20/20]: : 20it [00:57,  2.87s/it]\n",
            "\u001b[32m[I 2022-05-16 11:02:08,996]\u001b[0m Trial 14 finished with value: -0.04221546876477444 and parameters: {'num_epochs': 10, 'n_components': 140}. Best is trial 4 with value: 0.010608824980754855.\u001b[0m\n",
            "Epoch: [8/8]\t Seen Samples: [40328/40328]\tTrain Loss: 924.5515042278317\tTime: 0:00:03.660787: : 8it [00:29,  3.68s/it]\n",
            "Sampling: [20/20]: : 20it [00:55,  2.76s/it]\n",
            "\u001b[32m[I 2022-05-16 11:03:48,040]\u001b[0m Trial 15 finished with value: -0.003247074606903561 and parameters: {'num_epochs': 8, 'n_components': 35}. Best is trial 4 with value: 0.010608824980754855.\u001b[0m\n",
            "Epoch: [14/14]\t Seen Samples: [70574/70574]\tTrain Loss: 916.1494107691926\tTime: 0:00:03.622789: : 14it [00:56,  4.01s/it]\n",
            "Sampling: [20/20]: : 20it [00:58,  2.91s/it]\n",
            "\u001b[32m[I 2022-05-16 11:05:58,777]\u001b[0m Trial 16 finished with value: 0.013877583729940572 and parameters: {'num_epochs': 14, 'n_components': 43}. Best is trial 16 with value: 0.013877583729940572.\u001b[0m\n",
            "Epoch: [12/12]\t Seen Samples: [60492/60492]\tTrain Loss: 921.4880216598889\tTime: 0:00:03.729241: : 12it [00:44,  3.74s/it]\n",
            "Sampling: [20/20]: : 20it [00:58,  2.93s/it]\n",
            "\u001b[32m[I 2022-05-16 11:07:59,624]\u001b[0m Trial 17 finished with value: 0.005965445621676671 and parameters: {'num_epochs': 12, 'n_components': 47}. Best is trial 16 with value: 0.013877583729940572.\u001b[0m\n",
            "Epoch: [7/7]\t Seen Samples: [35287/35287]\tTrain Loss: 940.7726486560206\tTime: 0:00:03.764740: : 7it [00:26,  3.76s/it]\n",
            "Sampling: [20/20]: : 20it [00:58,  2.91s/it]\n",
            "\u001b[32m[I 2022-05-16 11:09:44,571]\u001b[0m Trial 18 finished with value: -0.02937375591349615 and parameters: {'num_epochs': 7, 'n_components': 67}. Best is trial 16 with value: 0.013877583729940572.\u001b[0m\n",
            "Epoch: [10/10]\t Seen Samples: [50410/50410]\tTrain Loss: 938.088586094029\tTime: 0:00:03.710212: : 10it [00:37,  3.79s/it]\n",
            "Sampling: [20/20]: : 20it [00:58,  2.92s/it]\n",
            "\u001b[32m[I 2022-05-16 11:11:42,597]\u001b[0m Trial 19 finished with value: -0.012531592181060812 and parameters: {'num_epochs': 10, 'n_components': 86}. Best is trial 16 with value: 0.013877583729940572.\u001b[0m\n",
            "Epoch: [5/5]\t Seen Samples: [25205/25205]\tTrain Loss: 938.5656801725848\tTime: 0:00:03.755451: : 5it [00:18,  3.75s/it]\n",
            "Sampling: [20/20]: : 20it [00:58,  2.90s/it]\n",
            "\u001b[32m[I 2022-05-16 11:13:14,670]\u001b[0m Trial 20 finished with value: -0.05710650074510836 and parameters: {'num_epochs': 5, 'n_components': 37}. Best is trial 16 with value: 0.013877583729940572.\u001b[0m\n",
            "Epoch: [14/14]\t Seen Samples: [70574/70574]\tTrain Loss: 914.9254395209284\tTime: 0:00:03.706061: : 14it [00:51,  3.71s/it]\n",
            "Sampling: [20/20]: : 20it [00:56,  2.83s/it]\n",
            "\u001b[32m[I 2022-05-16 11:15:16,559]\u001b[0m Trial 21 finished with value: 0.005626051788887812 and parameters: {'num_epochs': 14, 'n_components': 25}. Best is trial 16 with value: 0.013877583729940572.\u001b[0m\n",
            "Epoch: [13/13]\t Seen Samples: [65533/65533]\tTrain Loss: 914.8644257711763\tTime: 0:00:03.633435: : 13it [00:47,  3.66s/it]\n",
            "Sampling: [20/20]: : 20it [00:56,  2.85s/it]\n",
            "\u001b[32m[I 2022-05-16 11:17:15,528]\u001b[0m Trial 22 finished with value: -0.005010646186280862 and parameters: {'num_epochs': 13, 'n_components': 31}. Best is trial 16 with value: 0.013877583729940572.\u001b[0m\n",
            "Epoch: [15/15]\t Seen Samples: [75615/75615]\tTrain Loss: 915.7535389493652\tTime: 0:00:03.640573: : 15it [00:55,  3.68s/it]\n",
            "Sampling: [20/20]: : 20it [00:56,  2.83s/it]\n",
            "\u001b[32m[I 2022-05-16 11:19:23,382]\u001b[0m Trial 23 finished with value: 0.022575974463909992 and parameters: {'num_epochs': 15, 'n_components': 50}. Best is trial 23 with value: 0.022575974463909992.\u001b[0m\n",
            "Epoch: [15/15]\t Seen Samples: [75615/75615]\tTrain Loss: 915.9802471297858\tTime: 0:00:03.552826: : 15it [00:53,  3.60s/it]\n",
            "Sampling: [20/20]: : 20it [00:54,  2.74s/it]\n",
            "\u001b[32m[I 2022-05-16 11:21:27,802]\u001b[0m Trial 24 finished with value: 0.0004203971849112813 and parameters: {'num_epochs': 15, 'n_components': 48}. Best is trial 23 with value: 0.022575974463909992.\u001b[0m\n"
          ]
        }
      ],
      "source": [
        "study = optuna.create_study(direction=\"maximize\")\n",
        "study.optimize(objective, n_trials=25, n_jobs=1)"
      ]
    },
    {
      "cell_type": "code",
      "execution_count": 18,
      "metadata": {
        "id": "qpT14sbzS6ho",
        "colab": {
          "base_uri": "https://localhost:8080/"
        },
        "outputId": "3a16f6e7-7b97-4b4b-cbbc-8847646db8f0"
      },
      "outputs": [
        {
          "output_type": "execute_result",
          "data": {
            "text/plain": [
              "{'n_components': 50, 'num_epochs': 15}"
            ]
          },
          "metadata": {},
          "execution_count": 18
        }
      ],
      "source": [
        "study.best_trial.params"
      ]
    },
    {
      "cell_type": "code",
      "execution_count": 19,
      "metadata": {
        "id": "MsQRTb3DS6ho",
        "colab": {
          "base_uri": "https://localhost:8080/",
          "height": 142,
          "referenced_widgets": [
            "da990bd637cb46cfae651da18bd5a16e",
            "e4e3ab140e1e4fa2b8b2e25bc118dab4",
            "935c482719584dccbbb20f9db06ce5f4",
            "f7394b4b59004eeebe028eae9ee95540",
            "6d7c3b110d734de988b851fb616a9cf7",
            "36e4cbaccb62429bb037bda0c67b15ca",
            "02327cac62b14bb7a9195d7292032196",
            "c1c3312903be4a3996d6606525151421",
            "c8dd6eefa3f14c478bc8f957d1b5e714",
            "b9021d94485f4986826475535c6d0835",
            "295f99ce8b0a47f7a7790a94d4bd9942"
          ]
        },
        "outputId": "c2075d94-3d7b-4702-d8a0-505652c62506"
      },
      "outputs": [
        {
          "output_type": "stream",
          "name": "stderr",
          "text": [
            "/usr/local/lib/python3.7/dist-packages/contextualized_topic_models/utils/data_preparation.py:57: UserWarning: the longest document in your collection has 445 words, the model instead truncates to 128 tokens.\n",
            "  warnings.warn(f\"the longest document in your collection has {max_local_length} words, the model instead \"\n"
          ]
        },
        {
          "output_type": "display_data",
          "data": {
            "text/plain": [
              "Batches:   0%|          | 0/75 [00:00<?, ?it/s]"
            ],
            "application/vnd.jupyter.widget-view+json": {
              "version_major": 2,
              "version_minor": 0,
              "model_id": "da990bd637cb46cfae651da18bd5a16e"
            }
          },
          "metadata": {}
        },
        {
          "output_type": "stream",
          "name": "stderr",
          "text": [
            "Epoch: [15/15]\t Seen Samples: [225000/225000]\tTrain Loss: 956.7072411458333\tTime: 0:00:14.156317: : 15it [03:34, 14.30s/it]\n",
            "Sampling: [20/20]: : 20it [03:15,  9.79s/it]\n"
          ]
        }
      ],
      "source": [
        "tp = TopicModelDataPreparation('sentence-transformers/all-mpnet-base-v2')\n",
        "test_dataset = tp.fit(text_for_contextual=df['abstract'].tolist(), text_for_bow=df['abstract'].tolist())\n",
        "# corpus = tp.fit(text_for_contextual=df['abstract'].tolist(), text_for_bow=df['abstract'].tolist())\n",
        "\n",
        "ctm = CombinedTM(bow_size=len(tp.vocab), contextual_size=768, **study.best_trial.params)\n",
        "ctm.fit(test_dataset)"
      ]
    },
    {
      "cell_type": "code",
      "source": [
        "compute_metrics(ctm, df['abstract'].tolist())"
      ],
      "metadata": {
        "id": "g0Y0iYVeIki_",
        "colab": {
          "base_uri": "https://localhost:8080/"
        },
        "outputId": "94d1d288-c799-460d-e7b0-982e7f67dda3"
      },
      "execution_count": 20,
      "outputs": [
        {
          "output_type": "execute_result",
          "data": {
            "text/plain": [
              "(0.6472, 0.04274921193542138, 0.6143327177688397)"
            ]
          },
          "metadata": {},
          "execution_count": 20
        }
      ]
    }
  ],
  "metadata": {
    "accelerator": "GPU",
    "colab": {
      "name": "CTM.ipynb",
      "provenance": []
    },
    "kernelspec": {
      "display_name": "Python 3",
      "language": "python",
      "name": "python3"
    },
    "language_info": {
      "codemirror_mode": {
        "name": "ipython",
        "version": 3
      },
      "file_extension": ".py",
      "mimetype": "text/x-python",
      "name": "python",
      "nbconvert_exporter": "python",
      "pygments_lexer": "ipython3",
      "version": "3.7.12"
    },
    "widgets": {
      "application/vnd.jupyter.widget-state+json": {
        "8074fcf959e74cb783aa2492be876ebc": {
          "model_module": "@jupyter-widgets/controls",
          "model_name": "HBoxModel",
          "model_module_version": "1.5.0",
          "state": {
            "_dom_classes": [],
            "_model_module": "@jupyter-widgets/controls",
            "_model_module_version": "1.5.0",
            "_model_name": "HBoxModel",
            "_view_count": null,
            "_view_module": "@jupyter-widgets/controls",
            "_view_module_version": "1.5.0",
            "_view_name": "HBoxView",
            "box_style": "",
            "children": [
              "IPY_MODEL_25d3be45a227440a8a8d2a21a8e6518d",
              "IPY_MODEL_e024fa3e22f74b7c92ee95c79d331364",
              "IPY_MODEL_de3ba44055e4464ca6195c403d2ad4c5"
            ],
            "layout": "IPY_MODEL_88823311d9b748de95a43c707646755e"
          }
        },
        "25d3be45a227440a8a8d2a21a8e6518d": {
          "model_module": "@jupyter-widgets/controls",
          "model_name": "HTMLModel",
          "model_module_version": "1.5.0",
          "state": {
            "_dom_classes": [],
            "_model_module": "@jupyter-widgets/controls",
            "_model_module_version": "1.5.0",
            "_model_name": "HTMLModel",
            "_view_count": null,
            "_view_module": "@jupyter-widgets/controls",
            "_view_module_version": "1.5.0",
            "_view_name": "HTMLView",
            "description": "",
            "description_tooltip": null,
            "layout": "IPY_MODEL_09b299fdf9304a00b43597ea1519dd18",
            "placeholder": "​",
            "style": "IPY_MODEL_4184a7c47e684fc9aefeae7d38c398da",
            "value": "100%"
          }
        },
        "e024fa3e22f74b7c92ee95c79d331364": {
          "model_module": "@jupyter-widgets/controls",
          "model_name": "FloatProgressModel",
          "model_module_version": "1.5.0",
          "state": {
            "_dom_classes": [],
            "_model_module": "@jupyter-widgets/controls",
            "_model_module_version": "1.5.0",
            "_model_name": "FloatProgressModel",
            "_view_count": null,
            "_view_module": "@jupyter-widgets/controls",
            "_view_module_version": "1.5.0",
            "_view_name": "ProgressView",
            "bar_style": "success",
            "description": "",
            "description_tooltip": null,
            "layout": "IPY_MODEL_0362c435dbf64a2a932d770210766bcf",
            "max": 15000,
            "min": 0,
            "orientation": "horizontal",
            "style": "IPY_MODEL_cecb0438383f47c58173a69e405e1ee0",
            "value": 15000
          }
        },
        "de3ba44055e4464ca6195c403d2ad4c5": {
          "model_module": "@jupyter-widgets/controls",
          "model_name": "HTMLModel",
          "model_module_version": "1.5.0",
          "state": {
            "_dom_classes": [],
            "_model_module": "@jupyter-widgets/controls",
            "_model_module_version": "1.5.0",
            "_model_name": "HTMLModel",
            "_view_count": null,
            "_view_module": "@jupyter-widgets/controls",
            "_view_module_version": "1.5.0",
            "_view_name": "HTMLView",
            "description": "",
            "description_tooltip": null,
            "layout": "IPY_MODEL_49360003f2b7464ca928667e8f764886",
            "placeholder": "​",
            "style": "IPY_MODEL_67b5fa3b1710413e9b287d7e7e929f2e",
            "value": " 15000/15000 [02:55&lt;00:00, 84.50it/s]"
          }
        },
        "88823311d9b748de95a43c707646755e": {
          "model_module": "@jupyter-widgets/base",
          "model_name": "LayoutModel",
          "model_module_version": "1.2.0",
          "state": {
            "_model_module": "@jupyter-widgets/base",
            "_model_module_version": "1.2.0",
            "_model_name": "LayoutModel",
            "_view_count": null,
            "_view_module": "@jupyter-widgets/base",
            "_view_module_version": "1.2.0",
            "_view_name": "LayoutView",
            "align_content": null,
            "align_items": null,
            "align_self": null,
            "border": null,
            "bottom": null,
            "display": null,
            "flex": null,
            "flex_flow": null,
            "grid_area": null,
            "grid_auto_columns": null,
            "grid_auto_flow": null,
            "grid_auto_rows": null,
            "grid_column": null,
            "grid_gap": null,
            "grid_row": null,
            "grid_template_areas": null,
            "grid_template_columns": null,
            "grid_template_rows": null,
            "height": null,
            "justify_content": null,
            "justify_items": null,
            "left": null,
            "margin": null,
            "max_height": null,
            "max_width": null,
            "min_height": null,
            "min_width": null,
            "object_fit": null,
            "object_position": null,
            "order": null,
            "overflow": null,
            "overflow_x": null,
            "overflow_y": null,
            "padding": null,
            "right": null,
            "top": null,
            "visibility": null,
            "width": null
          }
        },
        "09b299fdf9304a00b43597ea1519dd18": {
          "model_module": "@jupyter-widgets/base",
          "model_name": "LayoutModel",
          "model_module_version": "1.2.0",
          "state": {
            "_model_module": "@jupyter-widgets/base",
            "_model_module_version": "1.2.0",
            "_model_name": "LayoutModel",
            "_view_count": null,
            "_view_module": "@jupyter-widgets/base",
            "_view_module_version": "1.2.0",
            "_view_name": "LayoutView",
            "align_content": null,
            "align_items": null,
            "align_self": null,
            "border": null,
            "bottom": null,
            "display": null,
            "flex": null,
            "flex_flow": null,
            "grid_area": null,
            "grid_auto_columns": null,
            "grid_auto_flow": null,
            "grid_auto_rows": null,
            "grid_column": null,
            "grid_gap": null,
            "grid_row": null,
            "grid_template_areas": null,
            "grid_template_columns": null,
            "grid_template_rows": null,
            "height": null,
            "justify_content": null,
            "justify_items": null,
            "left": null,
            "margin": null,
            "max_height": null,
            "max_width": null,
            "min_height": null,
            "min_width": null,
            "object_fit": null,
            "object_position": null,
            "order": null,
            "overflow": null,
            "overflow_x": null,
            "overflow_y": null,
            "padding": null,
            "right": null,
            "top": null,
            "visibility": null,
            "width": null
          }
        },
        "4184a7c47e684fc9aefeae7d38c398da": {
          "model_module": "@jupyter-widgets/controls",
          "model_name": "DescriptionStyleModel",
          "model_module_version": "1.5.0",
          "state": {
            "_model_module": "@jupyter-widgets/controls",
            "_model_module_version": "1.5.0",
            "_model_name": "DescriptionStyleModel",
            "_view_count": null,
            "_view_module": "@jupyter-widgets/base",
            "_view_module_version": "1.2.0",
            "_view_name": "StyleView",
            "description_width": ""
          }
        },
        "0362c435dbf64a2a932d770210766bcf": {
          "model_module": "@jupyter-widgets/base",
          "model_name": "LayoutModel",
          "model_module_version": "1.2.0",
          "state": {
            "_model_module": "@jupyter-widgets/base",
            "_model_module_version": "1.2.0",
            "_model_name": "LayoutModel",
            "_view_count": null,
            "_view_module": "@jupyter-widgets/base",
            "_view_module_version": "1.2.0",
            "_view_name": "LayoutView",
            "align_content": null,
            "align_items": null,
            "align_self": null,
            "border": null,
            "bottom": null,
            "display": null,
            "flex": null,
            "flex_flow": null,
            "grid_area": null,
            "grid_auto_columns": null,
            "grid_auto_flow": null,
            "grid_auto_rows": null,
            "grid_column": null,
            "grid_gap": null,
            "grid_row": null,
            "grid_template_areas": null,
            "grid_template_columns": null,
            "grid_template_rows": null,
            "height": null,
            "justify_content": null,
            "justify_items": null,
            "left": null,
            "margin": null,
            "max_height": null,
            "max_width": null,
            "min_height": null,
            "min_width": null,
            "object_fit": null,
            "object_position": null,
            "order": null,
            "overflow": null,
            "overflow_x": null,
            "overflow_y": null,
            "padding": null,
            "right": null,
            "top": null,
            "visibility": null,
            "width": null
          }
        },
        "cecb0438383f47c58173a69e405e1ee0": {
          "model_module": "@jupyter-widgets/controls",
          "model_name": "ProgressStyleModel",
          "model_module_version": "1.5.0",
          "state": {
            "_model_module": "@jupyter-widgets/controls",
            "_model_module_version": "1.5.0",
            "_model_name": "ProgressStyleModel",
            "_view_count": null,
            "_view_module": "@jupyter-widgets/base",
            "_view_module_version": "1.2.0",
            "_view_name": "StyleView",
            "bar_color": null,
            "description_width": ""
          }
        },
        "49360003f2b7464ca928667e8f764886": {
          "model_module": "@jupyter-widgets/base",
          "model_name": "LayoutModel",
          "model_module_version": "1.2.0",
          "state": {
            "_model_module": "@jupyter-widgets/base",
            "_model_module_version": "1.2.0",
            "_model_name": "LayoutModel",
            "_view_count": null,
            "_view_module": "@jupyter-widgets/base",
            "_view_module_version": "1.2.0",
            "_view_name": "LayoutView",
            "align_content": null,
            "align_items": null,
            "align_self": null,
            "border": null,
            "bottom": null,
            "display": null,
            "flex": null,
            "flex_flow": null,
            "grid_area": null,
            "grid_auto_columns": null,
            "grid_auto_flow": null,
            "grid_auto_rows": null,
            "grid_column": null,
            "grid_gap": null,
            "grid_row": null,
            "grid_template_areas": null,
            "grid_template_columns": null,
            "grid_template_rows": null,
            "height": null,
            "justify_content": null,
            "justify_items": null,
            "left": null,
            "margin": null,
            "max_height": null,
            "max_width": null,
            "min_height": null,
            "min_width": null,
            "object_fit": null,
            "object_position": null,
            "order": null,
            "overflow": null,
            "overflow_x": null,
            "overflow_y": null,
            "padding": null,
            "right": null,
            "top": null,
            "visibility": null,
            "width": null
          }
        },
        "67b5fa3b1710413e9b287d7e7e929f2e": {
          "model_module": "@jupyter-widgets/controls",
          "model_name": "DescriptionStyleModel",
          "model_module_version": "1.5.0",
          "state": {
            "_model_module": "@jupyter-widgets/controls",
            "_model_module_version": "1.5.0",
            "_model_name": "DescriptionStyleModel",
            "_view_count": null,
            "_view_module": "@jupyter-widgets/base",
            "_view_module_version": "1.2.0",
            "_view_name": "StyleView",
            "description_width": ""
          }
        },
        "da990bd637cb46cfae651da18bd5a16e": {
          "model_module": "@jupyter-widgets/controls",
          "model_name": "HBoxModel",
          "model_module_version": "1.5.0",
          "state": {
            "_dom_classes": [],
            "_model_module": "@jupyter-widgets/controls",
            "_model_module_version": "1.5.0",
            "_model_name": "HBoxModel",
            "_view_count": null,
            "_view_module": "@jupyter-widgets/controls",
            "_view_module_version": "1.5.0",
            "_view_name": "HBoxView",
            "box_style": "",
            "children": [
              "IPY_MODEL_e4e3ab140e1e4fa2b8b2e25bc118dab4",
              "IPY_MODEL_935c482719584dccbbb20f9db06ce5f4",
              "IPY_MODEL_f7394b4b59004eeebe028eae9ee95540"
            ],
            "layout": "IPY_MODEL_6d7c3b110d734de988b851fb616a9cf7"
          }
        },
        "e4e3ab140e1e4fa2b8b2e25bc118dab4": {
          "model_module": "@jupyter-widgets/controls",
          "model_name": "HTMLModel",
          "model_module_version": "1.5.0",
          "state": {
            "_dom_classes": [],
            "_model_module": "@jupyter-widgets/controls",
            "_model_module_version": "1.5.0",
            "_model_name": "HTMLModel",
            "_view_count": null,
            "_view_module": "@jupyter-widgets/controls",
            "_view_module_version": "1.5.0",
            "_view_name": "HTMLView",
            "description": "",
            "description_tooltip": null,
            "layout": "IPY_MODEL_36e4cbaccb62429bb037bda0c67b15ca",
            "placeholder": "​",
            "style": "IPY_MODEL_02327cac62b14bb7a9195d7292032196",
            "value": "Batches: 100%"
          }
        },
        "935c482719584dccbbb20f9db06ce5f4": {
          "model_module": "@jupyter-widgets/controls",
          "model_name": "FloatProgressModel",
          "model_module_version": "1.5.0",
          "state": {
            "_dom_classes": [],
            "_model_module": "@jupyter-widgets/controls",
            "_model_module_version": "1.5.0",
            "_model_name": "FloatProgressModel",
            "_view_count": null,
            "_view_module": "@jupyter-widgets/controls",
            "_view_module_version": "1.5.0",
            "_view_name": "ProgressView",
            "bar_style": "success",
            "description": "",
            "description_tooltip": null,
            "layout": "IPY_MODEL_c1c3312903be4a3996d6606525151421",
            "max": 75,
            "min": 0,
            "orientation": "horizontal",
            "style": "IPY_MODEL_c8dd6eefa3f14c478bc8f957d1b5e714",
            "value": 75
          }
        },
        "f7394b4b59004eeebe028eae9ee95540": {
          "model_module": "@jupyter-widgets/controls",
          "model_name": "HTMLModel",
          "model_module_version": "1.5.0",
          "state": {
            "_dom_classes": [],
            "_model_module": "@jupyter-widgets/controls",
            "_model_module_version": "1.5.0",
            "_model_name": "HTMLModel",
            "_view_count": null,
            "_view_module": "@jupyter-widgets/controls",
            "_view_module_version": "1.5.0",
            "_view_name": "HTMLView",
            "description": "",
            "description_tooltip": null,
            "layout": "IPY_MODEL_b9021d94485f4986826475535c6d0835",
            "placeholder": "​",
            "style": "IPY_MODEL_295f99ce8b0a47f7a7790a94d4bd9942",
            "value": " 75/75 [03:21&lt;00:00,  1.97s/it]"
          }
        },
        "6d7c3b110d734de988b851fb616a9cf7": {
          "model_module": "@jupyter-widgets/base",
          "model_name": "LayoutModel",
          "model_module_version": "1.2.0",
          "state": {
            "_model_module": "@jupyter-widgets/base",
            "_model_module_version": "1.2.0",
            "_model_name": "LayoutModel",
            "_view_count": null,
            "_view_module": "@jupyter-widgets/base",
            "_view_module_version": "1.2.0",
            "_view_name": "LayoutView",
            "align_content": null,
            "align_items": null,
            "align_self": null,
            "border": null,
            "bottom": null,
            "display": null,
            "flex": null,
            "flex_flow": null,
            "grid_area": null,
            "grid_auto_columns": null,
            "grid_auto_flow": null,
            "grid_auto_rows": null,
            "grid_column": null,
            "grid_gap": null,
            "grid_row": null,
            "grid_template_areas": null,
            "grid_template_columns": null,
            "grid_template_rows": null,
            "height": null,
            "justify_content": null,
            "justify_items": null,
            "left": null,
            "margin": null,
            "max_height": null,
            "max_width": null,
            "min_height": null,
            "min_width": null,
            "object_fit": null,
            "object_position": null,
            "order": null,
            "overflow": null,
            "overflow_x": null,
            "overflow_y": null,
            "padding": null,
            "right": null,
            "top": null,
            "visibility": null,
            "width": null
          }
        },
        "36e4cbaccb62429bb037bda0c67b15ca": {
          "model_module": "@jupyter-widgets/base",
          "model_name": "LayoutModel",
          "model_module_version": "1.2.0",
          "state": {
            "_model_module": "@jupyter-widgets/base",
            "_model_module_version": "1.2.0",
            "_model_name": "LayoutModel",
            "_view_count": null,
            "_view_module": "@jupyter-widgets/base",
            "_view_module_version": "1.2.0",
            "_view_name": "LayoutView",
            "align_content": null,
            "align_items": null,
            "align_self": null,
            "border": null,
            "bottom": null,
            "display": null,
            "flex": null,
            "flex_flow": null,
            "grid_area": null,
            "grid_auto_columns": null,
            "grid_auto_flow": null,
            "grid_auto_rows": null,
            "grid_column": null,
            "grid_gap": null,
            "grid_row": null,
            "grid_template_areas": null,
            "grid_template_columns": null,
            "grid_template_rows": null,
            "height": null,
            "justify_content": null,
            "justify_items": null,
            "left": null,
            "margin": null,
            "max_height": null,
            "max_width": null,
            "min_height": null,
            "min_width": null,
            "object_fit": null,
            "object_position": null,
            "order": null,
            "overflow": null,
            "overflow_x": null,
            "overflow_y": null,
            "padding": null,
            "right": null,
            "top": null,
            "visibility": null,
            "width": null
          }
        },
        "02327cac62b14bb7a9195d7292032196": {
          "model_module": "@jupyter-widgets/controls",
          "model_name": "DescriptionStyleModel",
          "model_module_version": "1.5.0",
          "state": {
            "_model_module": "@jupyter-widgets/controls",
            "_model_module_version": "1.5.0",
            "_model_name": "DescriptionStyleModel",
            "_view_count": null,
            "_view_module": "@jupyter-widgets/base",
            "_view_module_version": "1.2.0",
            "_view_name": "StyleView",
            "description_width": ""
          }
        },
        "c1c3312903be4a3996d6606525151421": {
          "model_module": "@jupyter-widgets/base",
          "model_name": "LayoutModel",
          "model_module_version": "1.2.0",
          "state": {
            "_model_module": "@jupyter-widgets/base",
            "_model_module_version": "1.2.0",
            "_model_name": "LayoutModel",
            "_view_count": null,
            "_view_module": "@jupyter-widgets/base",
            "_view_module_version": "1.2.0",
            "_view_name": "LayoutView",
            "align_content": null,
            "align_items": null,
            "align_self": null,
            "border": null,
            "bottom": null,
            "display": null,
            "flex": null,
            "flex_flow": null,
            "grid_area": null,
            "grid_auto_columns": null,
            "grid_auto_flow": null,
            "grid_auto_rows": null,
            "grid_column": null,
            "grid_gap": null,
            "grid_row": null,
            "grid_template_areas": null,
            "grid_template_columns": null,
            "grid_template_rows": null,
            "height": null,
            "justify_content": null,
            "justify_items": null,
            "left": null,
            "margin": null,
            "max_height": null,
            "max_width": null,
            "min_height": null,
            "min_width": null,
            "object_fit": null,
            "object_position": null,
            "order": null,
            "overflow": null,
            "overflow_x": null,
            "overflow_y": null,
            "padding": null,
            "right": null,
            "top": null,
            "visibility": null,
            "width": null
          }
        },
        "c8dd6eefa3f14c478bc8f957d1b5e714": {
          "model_module": "@jupyter-widgets/controls",
          "model_name": "ProgressStyleModel",
          "model_module_version": "1.5.0",
          "state": {
            "_model_module": "@jupyter-widgets/controls",
            "_model_module_version": "1.5.0",
            "_model_name": "ProgressStyleModel",
            "_view_count": null,
            "_view_module": "@jupyter-widgets/base",
            "_view_module_version": "1.2.0",
            "_view_name": "StyleView",
            "bar_color": null,
            "description_width": ""
          }
        },
        "b9021d94485f4986826475535c6d0835": {
          "model_module": "@jupyter-widgets/base",
          "model_name": "LayoutModel",
          "model_module_version": "1.2.0",
          "state": {
            "_model_module": "@jupyter-widgets/base",
            "_model_module_version": "1.2.0",
            "_model_name": "LayoutModel",
            "_view_count": null,
            "_view_module": "@jupyter-widgets/base",
            "_view_module_version": "1.2.0",
            "_view_name": "LayoutView",
            "align_content": null,
            "align_items": null,
            "align_self": null,
            "border": null,
            "bottom": null,
            "display": null,
            "flex": null,
            "flex_flow": null,
            "grid_area": null,
            "grid_auto_columns": null,
            "grid_auto_flow": null,
            "grid_auto_rows": null,
            "grid_column": null,
            "grid_gap": null,
            "grid_row": null,
            "grid_template_areas": null,
            "grid_template_columns": null,
            "grid_template_rows": null,
            "height": null,
            "justify_content": null,
            "justify_items": null,
            "left": null,
            "margin": null,
            "max_height": null,
            "max_width": null,
            "min_height": null,
            "min_width": null,
            "object_fit": null,
            "object_position": null,
            "order": null,
            "overflow": null,
            "overflow_x": null,
            "overflow_y": null,
            "padding": null,
            "right": null,
            "top": null,
            "visibility": null,
            "width": null
          }
        },
        "295f99ce8b0a47f7a7790a94d4bd9942": {
          "model_module": "@jupyter-widgets/controls",
          "model_name": "DescriptionStyleModel",
          "model_module_version": "1.5.0",
          "state": {
            "_model_module": "@jupyter-widgets/controls",
            "_model_module_version": "1.5.0",
            "_model_name": "DescriptionStyleModel",
            "_view_count": null,
            "_view_module": "@jupyter-widgets/base",
            "_view_module_version": "1.2.0",
            "_view_name": "StyleView",
            "description_width": ""
          }
        }
      }
    }
  },
  "nbformat": 4,
  "nbformat_minor": 0
}