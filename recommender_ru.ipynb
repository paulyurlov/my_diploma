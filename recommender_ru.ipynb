{
 "cells": [
  {
   "cell_type": "code",
   "execution_count": 1,
   "metadata": {
    "collapsed": true
   },
   "outputs": [],
   "source": [
    "import numpy as np\n",
    "from numpy.random import default_rng\n",
    "import transformers\n",
    "import pandas as pd\n",
    "from tqdm.notebook import tqdm\n",
    "import nltk\n",
    "import string\n",
    "from nltk.tokenize import word_tokenize\n",
    "from nltk.stem import WordNetLemmatizer\n",
    "import torch\n",
    "from recommender import Recommender\n",
    "from sentence_transformers import SentenceTransformer\n",
    "from bertopic import BERTopic\n",
    "import umap\n",
    "import hdbscan\n",
    "from octis.evaluation_metrics.diversity_metrics import TopicDiversity\n",
    "import gensim.corpora as corpora\n",
    "from gensim.models.coherencemodel import CoherenceModel\n",
    "from pylatexenc.latex2text import LatexNodes2Text"
   ]
  },
  {
   "cell_type": "code",
   "execution_count": 2,
   "outputs": [
    {
     "data": {
      "text/plain": "   Unnamed: 0.1  Unnamed: 0  \\\n0             0           0   \n1             1           1   \n2             3           3   \n3             4           4   \n4             5           5   \n\n                                          data_clean  \\\n0  изложить метод проектирование устройство подач...   \n1  статья исследовательский метод оценка панель л...   \n2  исследование актуальный философский проблема р...   \n3  статья анализироваться суть понятие определить...   \n4  рассматриваться создать сибирский отделение ра...   \n\n                                        data_unclean  \\\n0  Изложен метод проектирования устройств подачи ...   \n1  В статье представлены исследовательские методы...   \n2  Представлено исследование актуальной философск...   \n3  В статье анализируется суть  как  и понятия. О...   \n4  Рассматривается созданная в Сибирском отделени...   \n\n                                                 url  topics  \n0  https://cyberleninka.ru/article/n/matematiches...      -1  \n1  https://cyberleninka.ru/article/n/inzhenernaya...      -1  \n2  https://cyberleninka.ru/article/n/metodologich...      18  \n3  https://cyberleninka.ru/article/n/sotsiokultur...       0  \n4  https://cyberleninka.ru/article/n/evolyutsiya-...      -1  ",
      "text/html": "<div>\n<style scoped>\n    .dataframe tbody tr th:only-of-type {\n        vertical-align: middle;\n    }\n\n    .dataframe tbody tr th {\n        vertical-align: top;\n    }\n\n    .dataframe thead th {\n        text-align: right;\n    }\n</style>\n<table border=\"1\" class=\"dataframe\">\n  <thead>\n    <tr style=\"text-align: right;\">\n      <th></th>\n      <th>Unnamed: 0.1</th>\n      <th>Unnamed: 0</th>\n      <th>data_clean</th>\n      <th>data_unclean</th>\n      <th>url</th>\n      <th>topics</th>\n    </tr>\n  </thead>\n  <tbody>\n    <tr>\n      <th>0</th>\n      <td>0</td>\n      <td>0</td>\n      <td>изложить метод проектирование устройство подач...</td>\n      <td>Изложен метод проектирования устройств подачи ...</td>\n      <td>https://cyberleninka.ru/article/n/matematiches...</td>\n      <td>-1</td>\n    </tr>\n    <tr>\n      <th>1</th>\n      <td>1</td>\n      <td>1</td>\n      <td>статья исследовательский метод оценка панель л...</td>\n      <td>В статье представлены исследовательские методы...</td>\n      <td>https://cyberleninka.ru/article/n/inzhenernaya...</td>\n      <td>-1</td>\n    </tr>\n    <tr>\n      <th>2</th>\n      <td>3</td>\n      <td>3</td>\n      <td>исследование актуальный философский проблема р...</td>\n      <td>Представлено исследование актуальной философск...</td>\n      <td>https://cyberleninka.ru/article/n/metodologich...</td>\n      <td>18</td>\n    </tr>\n    <tr>\n      <th>3</th>\n      <td>4</td>\n      <td>4</td>\n      <td>статья анализироваться суть понятие определить...</td>\n      <td>В статье анализируется суть  как  и понятия. О...</td>\n      <td>https://cyberleninka.ru/article/n/sotsiokultur...</td>\n      <td>0</td>\n    </tr>\n    <tr>\n      <th>4</th>\n      <td>5</td>\n      <td>5</td>\n      <td>рассматриваться создать сибирский отделение ра...</td>\n      <td>Рассматривается созданная в Сибирском отделени...</td>\n      <td>https://cyberleninka.ru/article/n/evolyutsiya-...</td>\n      <td>-1</td>\n    </tr>\n  </tbody>\n</table>\n</div>"
     },
     "execution_count": 2,
     "metadata": {},
     "output_type": "execute_result"
    }
   ],
   "source": [
    "df = pd.read_csv('best_ru.csv')\n",
    "df.dropna(inplace=True)\n",
    "df.head()"
   ],
   "metadata": {
    "collapsed": false,
    "pycharm": {
     "name": "#%%\n"
    }
   }
  },
  {
   "cell_type": "code",
   "execution_count": 4,
   "outputs": [],
   "source": [
    "torch.manual_seed(42)\n",
    "np.random.seed(42)\n",
    "torch.manual_seed(42)\n",
    "transformers.set_seed(42)\n",
    "tqdm.pandas()"
   ],
   "metadata": {
    "collapsed": false,
    "pycharm": {
     "name": "#%%\n"
    }
   }
  },
  {
   "cell_type": "markdown",
   "source": [
    "# ADD additional data"
   ],
   "metadata": {
    "collapsed": false,
    "pycharm": {
     "name": "#%% md\n"
    }
   }
  },
  {
   "cell_type": "code",
   "execution_count": 5,
   "outputs": [],
   "source": [
    "model_name = 'paraphrase-multilingual-MiniLM-L12-v2'\n",
    "sentence_model = SentenceTransformer(model_name, device=\"cuda\")"
   ],
   "metadata": {
    "collapsed": false,
    "pycharm": {
     "name": "#%%\n"
    }
   }
  },
  {
   "cell_type": "code",
   "execution_count": 6,
   "outputs": [
    {
     "data": {
      "text/plain": "  0%|          | 0/7577 [00:00<?, ?it/s]",
      "application/vnd.jupyter.widget-view+json": {
       "version_major": 2,
       "version_minor": 0,
       "model_id": "55816988f3c3470cbffd59c27f350fb7"
      }
     },
     "metadata": {},
     "output_type": "display_data"
    }
   ],
   "source": [
    "embeddings = np.array([sentence_model.encode(x) for x in tqdm(df['data_clean'].tolist())])\n",
    "np.save('embeddings_for_rudata.npy', embeddings)"
   ],
   "metadata": {
    "collapsed": false,
    "pycharm": {
     "name": "#%%\n"
    }
   }
  },
  {
   "cell_type": "code",
   "execution_count": 7,
   "outputs": [],
   "source": [
    "rsys = Recommender(model_name, df['data_unclean'].tolist(), df['topics'].tolist(),\n",
    "                   embeddings_file='embeddings_for_rudata.npy',\n",
    "                   model_path='best_ru_model', additional_data=df['url'].tolist())"
   ],
   "metadata": {
    "collapsed": false,
    "pycharm": {
     "name": "#%%\n"
    }
   }
  },
  {
   "cell_type": "code",
   "execution_count": 8,
   "outputs": [
    {
     "data": {
      "text/plain": "Getting recommendations:   0%|          | 0/4 [00:00<?, ?it/s]",
      "application/vnd.jupyter.widget-view+json": {
       "version_major": 2,
       "version_minor": 0,
       "model_id": "5e169b61c597462ab3162b771fdce936"
      }
     },
     "metadata": {},
     "output_type": "display_data"
    },
    {
     "data": {
      "text/plain": "{'программирование': (['Программирование — это не только когда пишешь код, запускаешь его и удовлетворенно наблюдаешь за его безупречной работой, ведь зачастую он работает совсем не так, как мы рассчитываем! Возникает...',\n   'Парсером называется часть программы, которая из линейной последовательности простых данных строит более сложные структуры данных с учетом некоторой грамматики. \\r\\n\\r\\nФункциональные языки...',\n   'Час кода — это глобальная инициатива, часовое введение в программирование прямо на школьном уроке, призванное развеять мифы о сложности кодинга и показать, что каждый может научиться его основам. В...'],\n  array(['https://habrahabr.ru/company/pvs-studio/blog/318658/',\n         'https://habrahabr.ru/post/317304/',\n         'https://habrahabr.ru/post/314950/'], dtype='<U173')),\n 'аналитика': (['Рассмотрен широкий класс новых методов , основанный на статистической оценке инвариантов группы автоморфизмов изображения. Разработан теоретико-групповой статистический подход к решению  , позволяющий визуализировать структурно-функциональные связи в объекте контроля. Предложенные методы применены для решения задач восстановления зашумленных изображений в неразрушающем контроле.',\n   'Исследуются структурные свойства линейных многомерных динамических систем при действии  в задаче  за заданными траекториями выходных переменных. Предполагается, что только выходные переменные подлежат измерениям, а компоненты вектора возмущений являются неизвестными гладкими ограниченными функциями времени. Разработана пошаговая процедура приведения математической модели исходной системы к совместной блочно-канонической форме управляемости и наблюдаемости относительно выходных переменных. На основе полученной формы разработана декомпозиционная процедура синтеза обратной связи, обеспечивающая асимптотическую сходимость к заданным траекториям. Информационная поддержка комбинированных законов управления осуществляется с помощью .',\n   'В статье представлен численно-аналитический метод расчета , работающих в условиях , основанный на декомпозиции конструкции на прямоугольные области и использовании общего решения для прямоугольника, построенного на основе . Этот подход применим также и к , элементы которых работают в условиях . На примере расчета балочных перекрытий показана применимость развиваемого подхода к расчету .'],\n  array(['https://cyberleninka.ru/article/n/statisticheskie-teoretiko-gruppovye-metody-obrabotki-izobrazheniy',\n         'https://cyberleninka.ru/article/n/reshenie-zadachi-slezheniya-v-usloviyah-neopredelennosti-na-osnove-sovmestnoy-blochno-kanonicheskoy-formy-upravlyaemosti-i',\n         'https://cyberleninka.ru/article/n/raschet-balochnyh-perekrytiy-chislenno-analiticheskim-metodom'],\n        dtype='<U173')),\n 'собеседование': (['\\r\\n\\r\\n29 ноября в 19:00 мы проведем очередной meetup, посвящённый тестированию ПО.\\r\\n\\r\\nНа этот раз у нас в гостях выступят:\\r\\n\\r\\nЯна Валишевская, Rambler Digital Solutions\\r\\n«Кто такой Тест – аналитик и...',\n   '14 декабря на Мансарде Rambler&Co состоится очередной RDSFront& meetup, на котором наши сотрудники поделятся прикладными знаниями в области frontend разработки.\\r\\n\\r\\n\\r\\n\\r\\nДоклады под катом.\\r\\n\\r\\n#1...',\n   '22-го декабря в 19:00 на Мансарде RAMBLER&Co состоится 41-я встреча MoscowPython\\r\\n\\r\\n\\r\\n\\r\\nНа встрече мы услышим 3 доклада:\\r\\n\\r\\nАнтон Кавалеров (Siemens, R&D Engineer).\\r\\nОпыт разработки...'],\n  array(['https://habrahabr.ru/company/rambler-co/blog/316300/',\n         'https://habrahabr.ru/company/rambler-co/blog/317412/',\n         'https://habrahabr.ru/company/rambler-co/blog/317216/'],\n        dtype='<U173')),\n 'стажер': (['В статье профессионально-коммуникативная компетенция студентов рассматривается как основной компонент подготовки высококвалифицированных специалистов, готовых к взаимодействию в профессиональной сфере общения.',\n   'В работе представлены результаты исследований автора по обоснованию технологии поэтапного  личности курсантов вуза пограничных войск, психолого-педагогические условия, необходимые для реализации данной технологии.',\n   'В статье освещается опыт подготовки студентов педагогического университета к  с использованием .'],\n  array(['https://cyberleninka.ru/article/n/professionalno-kommunikativnaya-kompetentsiya-kak-osnovnoy-komponent-yazykovoy-podgotovki-po-inostrannomu-yazyku-studentov-fakulteta',\n         'https://cyberleninka.ru/article/n/tehnologiya-poetapnogo-professionalnogo-razvitiya-lichnosti-kursantov-pogranichnogo-vuza',\n         'https://cyberleninka.ru/article/n/aktivnye-metody-obucheniya-dialogicheskomu-obscheniyu-buduschih-uchiteley'],\n        dtype='<U173'))}"
     },
     "execution_count": 8,
     "metadata": {},
     "output_type": "execute_result"
    }
   ],
   "source": [
    "result = rsys.recommend(['программирование', 'аналитика', 'собеседование', 'стажер'])\n",
    "result"
   ],
   "metadata": {
    "collapsed": false,
    "pycharm": {
     "name": "#%%\n"
    }
   }
  },
  {
   "cell_type": "code",
   "execution_count": 11,
   "outputs": [
    {
     "data": {
      "text/plain": "Getting recommendations:   0%|          | 0/4 [00:00<?, ?it/s]",
      "application/vnd.jupyter.widget-view+json": {
       "version_major": 2,
       "version_minor": 0,
       "model_id": "2ce102fa383b4356bc9a5f39897a0059"
      }
     },
     "metadata": {},
     "output_type": "display_data"
    },
    {
     "data": {
      "text/plain": "{'программирование': (['Программирование — это не только когда пишешь код, запускаешь его и удовлетворенно наблюдаешь за его безупречной работой, ведь зачастую он работает совсем не так, как мы рассчитываем! Возникает...',\n   'Парсером называется часть программы, которая из линейной последовательности простых данных строит более сложные структуры данных с учетом некоторой грамматики. \\r\\n\\r\\nФункциональные языки...',\n   'Час кода — это глобальная инициатива, часовое введение в программирование прямо на школьном уроке, призванное развеять мифы о сложности кодинга и показать, что каждый может научиться его основам. В...'],\n  array(['https://habrahabr.ru/company/pvs-studio/blog/318658/',\n         'https://habrahabr.ru/post/317304/',\n         'https://habrahabr.ru/post/314950/'], dtype='<U173')),\n 'аналитика': (['Рассмотрен широкий класс новых методов , основанный на статистической оценке инвариантов группы автоморфизмов изображения. Разработан теоретико-групповой статистический подход к решению  , позволяющий визуализировать структурно-функциональные связи в объекте контроля. Предложенные методы применены для решения задач восстановления зашумленных изображений в неразрушающем контроле.',\n   'Исследуются структурные свойства линейных многомерных динамических систем при действии  в задаче  за заданными траекториями выходных переменных. Предполагается, что только выходные переменные подлежат измерениям, а компоненты вектора возмущений являются неизвестными гладкими ограниченными функциями времени. Разработана пошаговая процедура приведения математической модели исходной системы к совместной блочно-канонической форме управляемости и наблюдаемости относительно выходных переменных. На основе полученной формы разработана декомпозиционная процедура синтеза обратной связи, обеспечивающая асимптотическую сходимость к заданным траекториям. Информационная поддержка комбинированных законов управления осуществляется с помощью .',\n   'В статье представлен численно-аналитический метод расчета , работающих в условиях , основанный на декомпозиции конструкции на прямоугольные области и использовании общего решения для прямоугольника, построенного на основе . Этот подход применим также и к , элементы которых работают в условиях . На примере расчета балочных перекрытий показана применимость развиваемого подхода к расчету .'],\n  array(['https://cyberleninka.ru/article/n/statisticheskie-teoretiko-gruppovye-metody-obrabotki-izobrazheniy',\n         'https://cyberleninka.ru/article/n/reshenie-zadachi-slezheniya-v-usloviyah-neopredelennosti-na-osnove-sovmestnoy-blochno-kanonicheskoy-formy-upravlyaemosti-i',\n         'https://cyberleninka.ru/article/n/raschet-balochnyh-perekrytiy-chislenno-analiticheskim-metodom'],\n        dtype='<U173')),\n 'bert': (['&nbsp;&nbsp;&nbsp;&nbsp;&nbsp;&nbsp;&nbsp;&nbsp; — У меня с собой свиток, где записано «Прорицание Вёльвы». Там ясно сказано, как все должно быть…...',\n   '&nbsp;&nbsp;&nbsp;&nbsp;&nbsp;&nbsp;&nbsp;&nbsp;&nbsp; — Ну, если ты смотришь такого рода спили, то знаешь про них больше меня, — сказал я. \\r\\n&nbsp;&nbsp;&nbsp;&nbsp;&nbsp;&nbsp;&nbsp;&nbsp;&nbsp;...',\n   'Здравствуйте, уважаемые друзья! Давно мечтал о двух вещах – миниатюрном, тихом ПК и сделать что-нибудь своими руками. В данной публикации речь пойдёт о процессе и результате совмещения этих двух...'],\n  array(['https://geektimes.ru/post/283892/',\n         'https://habrahabr.ru/post/316046/',\n         'https://geektimes.ru/post/282288/'], dtype='<U173')),\n 'стажер': (['В статье профессионально-коммуникативная компетенция студентов рассматривается как основной компонент подготовки высококвалифицированных специалистов, готовых к взаимодействию в профессиональной сфере общения.',\n   'В работе представлены результаты исследований автора по обоснованию технологии поэтапного  личности курсантов вуза пограничных войск, психолого-педагогические условия, необходимые для реализации данной технологии.',\n   'В статье освещается опыт подготовки студентов педагогического университета к  с использованием .'],\n  array(['https://cyberleninka.ru/article/n/professionalno-kommunikativnaya-kompetentsiya-kak-osnovnoy-komponent-yazykovoy-podgotovki-po-inostrannomu-yazyku-studentov-fakulteta',\n         'https://cyberleninka.ru/article/n/tehnologiya-poetapnogo-professionalnogo-razvitiya-lichnosti-kursantov-pogranichnogo-vuza',\n         'https://cyberleninka.ru/article/n/aktivnye-metody-obucheniya-dialogicheskomu-obscheniyu-buduschih-uchiteley'],\n        dtype='<U173'))}"
     },
     "execution_count": 11,
     "metadata": {},
     "output_type": "execute_result"
    }
   ],
   "source": [
    "result = rsys.recommend(['программирование', 'аналитика', '', 'стажер'])\n",
    "result"
   ],
   "metadata": {
    "collapsed": false,
    "pycharm": {
     "name": "#%%\n"
    }
   }
  },
  {
   "cell_type": "code",
   "execution_count": 15,
   "outputs": [
    {
     "data": {
      "text/plain": "Getting recommendations:   0%|          | 0/1 [00:00<?, ?it/s]",
      "application/vnd.jupyter.widget-view+json": {
       "version_major": 2,
       "version_minor": 0,
       "model_id": "ce678f546a1e4a5990ead36c3dec6cc6"
      }
     },
     "metadata": {},
     "output_type": "display_data"
    },
    {
     "data": {
      "text/plain": "{'трансформеры': (['Представлены результаты анализа систем электроснабжения для  с полностью электрифицированным оборудованием. Сформулированы требования к современным . Сделаны выводы о предпочтительном использовании систем генерирования энергии на основе  в сочетании с многоуровневыми активными выпрямителями и инверторами на MOSFET-модулях.',\n   '\\r\\n\\r\\nДвигатель постоянного тока, стоящий в моноколесе, может работать как генератор, заряжая батареи на торможении. Однако возможность еще не означает, что рекуперация непременно есть. Из того, что...',\n   'Рассматривается численно-аналитическая модель инвертирующего преобразователя, работающего как в режиме непрерывных токов индуктивного накопителя энергии, так и в режиме прерывистых токов. Приведены результаты расчетов бифуркационных диаграмм.'],\n  array(['https://cyberleninka.ru/article/n/perspektivnye-sistemy-elektrosnabzheniya-samoleta-s-polnostyu-elektrifitsirovannym-oborudovaniem',\n         'https://geektimes.ru/post/282130/',\n         'https://cyberleninka.ru/article/n/matematicheskoe-modelirovanie-dinamiki-invertiruyuschego-dc-dc-preobrazovatelya-napryazheniya'],\n        dtype='<U173'))}"
     },
     "execution_count": 15,
     "metadata": {},
     "output_type": "execute_result"
    }
   ],
   "source": [
    "result = rsys.recommend(['трансформеры'])\n",
    "result"
   ],
   "metadata": {
    "collapsed": false,
    "pycharm": {
     "name": "#%%\n"
    }
   }
  },
  {
   "cell_type": "code",
   "execution_count": 13,
   "outputs": [],
   "source": [],
   "metadata": {
    "collapsed": false,
    "pycharm": {
     "name": "#%%\n"
    }
   }
  },
  {
   "cell_type": "code",
   "execution_count": null,
   "outputs": [],
   "source": [],
   "metadata": {
    "collapsed": false,
    "pycharm": {
     "name": "#%%\n"
    }
   }
  }
 ],
 "metadata": {
  "kernelspec": {
   "display_name": "Python 3",
   "language": "python",
   "name": "python3"
  },
  "language_info": {
   "codemirror_mode": {
    "name": "ipython",
    "version": 2
   },
   "file_extension": ".py",
   "mimetype": "text/x-python",
   "name": "python",
   "nbconvert_exporter": "python",
   "pygments_lexer": "ipython2",
   "version": "2.7.6"
  }
 },
 "nbformat": 4,
 "nbformat_minor": 0
}